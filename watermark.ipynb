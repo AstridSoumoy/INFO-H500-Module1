from skimage.io import imread,imsave,imshow
%matplotlib inline

watermarkImg = imread('watermark.png')
im = imread('road.jpg')
print('test')
imshow(im)
imsave('result.jpg', im)
